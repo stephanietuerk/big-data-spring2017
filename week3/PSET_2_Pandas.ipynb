{
 "cells": [
  {
   "cell_type": "markdown",
   "metadata": {},
   "source": [
    "# Problem Set 2: Intro to Pandas"
   ]
  },
  {
   "cell_type": "markdown",
   "metadata": {},
   "source": [
    "## Part 1\n",
    "\n",
    "In this problem set, we want to determine if we can use voter registrations as a proxy for votes cast. Because who you vote for on an individual basis is not recorded, we would like to see if the numbers for those registered in a precinct as Republican or Democrate actually reflect the results of the election based on the outcome. We'll continue our analysis of Centre County, Pennsylvania, and we are going to use Pandas, Numpy, and Matplotlib as our tools to explore the data.\n",
    "\n",
    "\n",
    "Building off the in class example, first a short example will introduce us to the dataset, some data wrangling functions of Pandas, and a few plots with Matplotlib.\n",
    "\n",
    "\n",
    "\n",
    "Throughout the exercises we will be continuously using Pandas and some of its merging functionality to join the numerous OD files available. We will be building exploratory data visualizations, finding urban patterns and locating divergent areas within the dataset. Some useful documentation for merging data with Pandas can be found at:\n",
    "\n",
    "\n",
    "http://pandas.pydata.org/pandas-docs/stable/merging.html"
   ]
  },
  {
   "cell_type": "markdown",
   "metadata": {},
   "source": [
    "First, lets install our libraries."
   ]
  },
  {
   "cell_type": "code",
   "execution_count": 1,
   "metadata": {
    "collapsed": false
   },
   "outputs": [],
   "source": [
    "import pandas as pd\n",
    "import numpy as np\n",
    "import matplotlib.pylab as plt\n",
    "from itertools import cycle, islice\n",
    "\n",
    "# This line lets us plot on our ipython notebook\n",
    "%matplotlib inline"
   ]
  },
  {
   "cell_type": "markdown",
   "metadata": {},
   "source": [
    "Next, let's open up one of the files. Let's look at the voter registrations, this is the same as we did in the inclass.\n",
    "\n",
    "**Problem 1: Load CENTRE_FVE_20170123.csv into Pandas as a data frame called 'df_voters'.**"
   ]
  },
  {
   "cell_type": "code",
   "execution_count": 2,
   "metadata": {
    "collapsed": false
   },
   "outputs": [
    {
     "data": {
      "text/html": [
       "<div>\n",
       "<table border=\"1\" class=\"dataframe\">\n",
       "  <thead>\n",
       "    <tr style=\"text-align: right;\">\n",
       "      <th></th>\n",
       "      <th>1</th>\n",
       "      <th>2</th>\n",
       "      <th>3</th>\n",
       "      <th>4</th>\n",
       "      <th>5</th>\n",
       "      <th>6</th>\n",
       "      <th>7</th>\n",
       "      <th>8</th>\n",
       "      <th>9</th>\n",
       "      <th>10</th>\n",
       "      <th>...</th>\n",
       "      <th>144</th>\n",
       "      <th>145</th>\n",
       "      <th>146</th>\n",
       "      <th>147</th>\n",
       "      <th>148</th>\n",
       "      <th>149</th>\n",
       "      <th>150</th>\n",
       "      <th>151</th>\n",
       "      <th>152</th>\n",
       "      <th>153</th>\n",
       "    </tr>\n",
       "  </thead>\n",
       "  <tbody>\n",
       "    <tr>\n",
       "      <th>0</th>\n",
       "      <td>002013865-14</td>\n",
       "      <td>NaN</td>\n",
       "      <td>MILLS</td>\n",
       "      <td>JAMES</td>\n",
       "      <td>ARTHUR</td>\n",
       "      <td>NaN</td>\n",
       "      <td>M</td>\n",
       "      <td>2/7/65</td>\n",
       "      <td>10/1/00</td>\n",
       "      <td>A</td>\n",
       "      <td>...</td>\n",
       "      <td>NaN</td>\n",
       "      <td>AB</td>\n",
       "      <td>R</td>\n",
       "      <td>NaN</td>\n",
       "      <td>NaN</td>\n",
       "      <td>NaN</td>\n",
       "      <td>NaN</td>\n",
       "      <td>NaN</td>\n",
       "      <td>CENTRE</td>\n",
       "      <td>NaN</td>\n",
       "    </tr>\n",
       "    <tr>\n",
       "      <th>1</th>\n",
       "      <td>002020582-14</td>\n",
       "      <td>NaN</td>\n",
       "      <td>TERRY</td>\n",
       "      <td>CHARLES</td>\n",
       "      <td>D</td>\n",
       "      <td>NaN</td>\n",
       "      <td>U</td>\n",
       "      <td>9/16/76</td>\n",
       "      <td>9/1/02</td>\n",
       "      <td>I</td>\n",
       "      <td>...</td>\n",
       "      <td>NaN</td>\n",
       "      <td>NaN</td>\n",
       "      <td>NaN</td>\n",
       "      <td>NaN</td>\n",
       "      <td>NaN</td>\n",
       "      <td>AP</td>\n",
       "      <td>D</td>\n",
       "      <td>NaN</td>\n",
       "      <td>CENTRE</td>\n",
       "      <td>NaN</td>\n",
       "    </tr>\n",
       "    <tr>\n",
       "      <th>2</th>\n",
       "      <td>002287451-14</td>\n",
       "      <td>NaN</td>\n",
       "      <td>MURRELL</td>\n",
       "      <td>RICHARD</td>\n",
       "      <td>L</td>\n",
       "      <td>NaN</td>\n",
       "      <td>M</td>\n",
       "      <td>8/11/50</td>\n",
       "      <td>10/1/72</td>\n",
       "      <td>A</td>\n",
       "      <td>...</td>\n",
       "      <td>NaN</td>\n",
       "      <td>NaN</td>\n",
       "      <td>NaN</td>\n",
       "      <td>NaN</td>\n",
       "      <td>NaN</td>\n",
       "      <td>NaN</td>\n",
       "      <td>NaN</td>\n",
       "      <td>NaN</td>\n",
       "      <td>CENTRE</td>\n",
       "      <td>NaN</td>\n",
       "    </tr>\n",
       "    <tr>\n",
       "      <th>3</th>\n",
       "      <td>002365541-14</td>\n",
       "      <td>NaN</td>\n",
       "      <td>MILLS</td>\n",
       "      <td>JOYCE</td>\n",
       "      <td>ELLEN</td>\n",
       "      <td>NaN</td>\n",
       "      <td>F</td>\n",
       "      <td>5/6/69</td>\n",
       "      <td>10/1/00</td>\n",
       "      <td>A</td>\n",
       "      <td>...</td>\n",
       "      <td>NaN</td>\n",
       "      <td>AP</td>\n",
       "      <td>R</td>\n",
       "      <td>NaN</td>\n",
       "      <td>NaN</td>\n",
       "      <td>NaN</td>\n",
       "      <td>NaN</td>\n",
       "      <td>NaN</td>\n",
       "      <td>CENTRE</td>\n",
       "      <td>NaN</td>\n",
       "    </tr>\n",
       "    <tr>\n",
       "      <th>4</th>\n",
       "      <td>002370224-14</td>\n",
       "      <td>NaN</td>\n",
       "      <td>FENTON</td>\n",
       "      <td>CASEY</td>\n",
       "      <td>JAMES</td>\n",
       "      <td>NaN</td>\n",
       "      <td>M</td>\n",
       "      <td>11/22/83</td>\n",
       "      <td>3/1/02</td>\n",
       "      <td>A</td>\n",
       "      <td>...</td>\n",
       "      <td>NaN</td>\n",
       "      <td>AP</td>\n",
       "      <td>D</td>\n",
       "      <td>NaN</td>\n",
       "      <td>NaN</td>\n",
       "      <td>NaN</td>\n",
       "      <td>NaN</td>\n",
       "      <td>5707687675</td>\n",
       "      <td>CENTRE</td>\n",
       "      <td>NaN</td>\n",
       "    </tr>\n",
       "  </tbody>\n",
       "</table>\n",
       "<p>5 rows × 153 columns</p>\n",
       "</div>"
      ],
      "text/plain": [
       "              1    2        3        4       5    6  7         8        9 10  \\\n",
       "0  002013865-14  NaN    MILLS    JAMES  ARTHUR  NaN  M    2/7/65  10/1/00  A   \n",
       "1  002020582-14  NaN    TERRY  CHARLES       D  NaN  U   9/16/76   9/1/02  I   \n",
       "2  002287451-14  NaN  MURRELL  RICHARD       L  NaN  M   8/11/50  10/1/72  A   \n",
       "3  002365541-14  NaN    MILLS    JOYCE   ELLEN  NaN  F    5/6/69  10/1/00  A   \n",
       "4  002370224-14  NaN   FENTON    CASEY   JAMES  NaN  M  11/22/83   3/1/02  A   \n",
       "\n",
       "  ...  144  145  146  147  148  149  150         151     152 153  \n",
       "0 ...  NaN   AB    R  NaN  NaN  NaN  NaN         NaN  CENTRE NaN  \n",
       "1 ...  NaN  NaN  NaN  NaN  NaN   AP    D         NaN  CENTRE NaN  \n",
       "2 ...  NaN  NaN  NaN  NaN  NaN  NaN  NaN         NaN  CENTRE NaN  \n",
       "3 ...  NaN   AP    R  NaN  NaN  NaN  NaN         NaN  CENTRE NaN  \n",
       "4 ...  NaN   AP    D  NaN  NaN  NaN  NaN  5707687675  CENTRE NaN  \n",
       "\n",
       "[5 rows x 153 columns]"
      ]
     },
     "execution_count": 2,
     "metadata": {},
     "output_type": "execute_result"
    }
   ],
   "source": [
    "df_voters=pd.read_csv('data/CENTRE_FVE_20170123.csv', low_memory=False)\n",
    "\n",
    "df_voters.head()"
   ]
  },
  {
   "cell_type": "markdown",
   "metadata": {},
   "source": [
    "To start us off, we need to determine party affiliations for each of those registered. Reading in the metadata, this is held in column 12. Let's take a look at unique party registrations in column 12.\n",
    "\n",
    "**The data documentation file is located in your data folder. It will describe the fields.**"
   ]
  },
  {
   "cell_type": "code",
   "execution_count": 3,
   "metadata": {
    "collapsed": false
   },
   "outputs": [
    {
     "data": {
      "text/plain": [
       "array(['R', 'D', 'NF', 'LN', 'I', 'NON', 'AT', 'GR', 'NO', 'OTH', 'S',\n",
       "       'TP', 'AE', 'NOP', 'NST', 'SEC', 'UPP', 'GW', 'INDE', 'C', 'CT',\n",
       "       'DNV', 'AI', 'PR', 'INDd', 'IND', 'ID', 'WH', 'GP', 'PL', 'MW',\n",
       "       'AM', 'UNA', nan, 'LI', 'IAPP', 'THPY', 'IR', 'UNK', 'NTS', 'DS',\n",
       "       'SAME', 'IT', 'ICO', 'BM', 'M', 'NS', 'JD', 'LT', 'BH', 'AH', 'MZ',\n",
       "       'PG', 'PP', 'NL', 'UND', 'N', 'FD', 'IDK', 'RF', 'AYE', 'AD',\n",
       "       'PPOA', 'MA', 'MM', 'OLAP', 'CNT', 'AF', 'CON', 'GT', 'FR', 'AC',\n",
       "       'DTP', 'CH', 'SOD', 'IK', 'PZ', 'PIR', 'H', 'FE', 'COL', 'BP', 'CB',\n",
       "       'AL', 'CM', 'OP', 'IA', 'L', 'TPP', 'ACO', 'COI', 'MAJA', 'KEG'], dtype=object)"
      ]
     },
     "execution_count": 3,
     "metadata": {},
     "output_type": "execute_result"
    }
   ],
   "source": [
    "# View the unique values in column 12\n",
    "df_voters['12'].unique()"
   ]
  },
  {
   "cell_type": "markdown",
   "metadata": {
    "collapsed": true
   },
   "source": [
    "There are quite a few, and its pretty messy. Let's to explore MatPlotLib, let's make some charts to see which parties have the highest subscriptions and graph it in a bar chart.\n",
    "\n",
    "**Group our data so we can plot. Find the number of subscribers to each party and sum them in a table. Call your new data frame 'df_summed', name the columns 'PARTY' and 'NUMBER'**"
   ]
  },
  {
   "cell_type": "code",
   "execution_count": 4,
   "metadata": {
    "collapsed": false
   },
   "outputs": [
    {
     "data": {
      "text/html": [
       "<div>\n",
       "<table border=\"1\" class=\"dataframe\">\n",
       "  <thead>\n",
       "    <tr style=\"text-align: right;\">\n",
       "      <th></th>\n",
       "      <th>NUMBER</th>\n",
       "    </tr>\n",
       "    <tr>\n",
       "      <th>PARTY</th>\n",
       "      <th></th>\n",
       "    </tr>\n",
       "  </thead>\n",
       "  <tbody>\n",
       "    <tr>\n",
       "      <th>D</th>\n",
       "      <td>51162</td>\n",
       "    </tr>\n",
       "    <tr>\n",
       "      <th>R</th>\n",
       "      <td>47668</td>\n",
       "    </tr>\n",
       "    <tr>\n",
       "      <th>NF</th>\n",
       "      <td>17608</td>\n",
       "    </tr>\n",
       "    <tr>\n",
       "      <th>NON</th>\n",
       "      <td>2814</td>\n",
       "    </tr>\n",
       "    <tr>\n",
       "      <th>I</th>\n",
       "      <td>2006</td>\n",
       "    </tr>\n",
       "    <tr>\n",
       "      <th>LN</th>\n",
       "      <td>805</td>\n",
       "    </tr>\n",
       "    <tr>\n",
       "      <th>OTH</th>\n",
       "      <td>368</td>\n",
       "    </tr>\n",
       "    <tr>\n",
       "      <th>GR</th>\n",
       "      <td>264</td>\n",
       "    </tr>\n",
       "    <tr>\n",
       "      <th>INDE</th>\n",
       "      <td>183</td>\n",
       "    </tr>\n",
       "    <tr>\n",
       "      <th>NO</th>\n",
       "      <td>175</td>\n",
       "    </tr>\n",
       "    <tr>\n",
       "      <th>NOP</th>\n",
       "      <td>137</td>\n",
       "    </tr>\n",
       "    <tr>\n",
       "      <th>IND</th>\n",
       "      <td>31</td>\n",
       "    </tr>\n",
       "    <tr>\n",
       "      <th>C</th>\n",
       "      <td>24</td>\n",
       "    </tr>\n",
       "    <tr>\n",
       "      <th>CT</th>\n",
       "      <td>20</td>\n",
       "    </tr>\n",
       "    <tr>\n",
       "      <th>S</th>\n",
       "      <td>11</td>\n",
       "    </tr>\n",
       "    <tr>\n",
       "      <th>LI</th>\n",
       "      <td>10</td>\n",
       "    </tr>\n",
       "    <tr>\n",
       "      <th>IR</th>\n",
       "      <td>10</td>\n",
       "    </tr>\n",
       "    <tr>\n",
       "      <th>ID</th>\n",
       "      <td>9</td>\n",
       "    </tr>\n",
       "    <tr>\n",
       "      <th>UNK</th>\n",
       "      <td>7</td>\n",
       "    </tr>\n",
       "    <tr>\n",
       "      <th>NTS</th>\n",
       "      <td>6</td>\n",
       "    </tr>\n",
       "    <tr>\n",
       "      <th>RF</th>\n",
       "      <td>5</td>\n",
       "    </tr>\n",
       "    <tr>\n",
       "      <th>UND</th>\n",
       "      <td>5</td>\n",
       "    </tr>\n",
       "    <tr>\n",
       "      <th>M</th>\n",
       "      <td>5</td>\n",
       "    </tr>\n",
       "    <tr>\n",
       "      <th>UNA</th>\n",
       "      <td>5</td>\n",
       "    </tr>\n",
       "    <tr>\n",
       "      <th>AD</th>\n",
       "      <td>4</td>\n",
       "    </tr>\n",
       "    <tr>\n",
       "      <th>GP</th>\n",
       "      <td>4</td>\n",
       "    </tr>\n",
       "    <tr>\n",
       "      <th>AM</th>\n",
       "      <td>4</td>\n",
       "    </tr>\n",
       "    <tr>\n",
       "      <th>WH</th>\n",
       "      <td>4</td>\n",
       "    </tr>\n",
       "    <tr>\n",
       "      <th>NS</th>\n",
       "      <td>3</td>\n",
       "    </tr>\n",
       "    <tr>\n",
       "      <th>MW</th>\n",
       "      <td>3</td>\n",
       "    </tr>\n",
       "    <tr>\n",
       "      <th>...</th>\n",
       "      <td>...</td>\n",
       "    </tr>\n",
       "    <tr>\n",
       "      <th>AH</th>\n",
       "      <td>1</td>\n",
       "    </tr>\n",
       "    <tr>\n",
       "      <th>AF</th>\n",
       "      <td>1</td>\n",
       "    </tr>\n",
       "    <tr>\n",
       "      <th>TPP</th>\n",
       "      <td>1</td>\n",
       "    </tr>\n",
       "    <tr>\n",
       "      <th>ACO</th>\n",
       "      <td>1</td>\n",
       "    </tr>\n",
       "    <tr>\n",
       "      <th>OLAP</th>\n",
       "      <td>1</td>\n",
       "    </tr>\n",
       "    <tr>\n",
       "      <th>FE</th>\n",
       "      <td>1</td>\n",
       "    </tr>\n",
       "    <tr>\n",
       "      <th>DTP</th>\n",
       "      <td>1</td>\n",
       "    </tr>\n",
       "    <tr>\n",
       "      <th>MM</th>\n",
       "      <td>1</td>\n",
       "    </tr>\n",
       "    <tr>\n",
       "      <th>MAJA</th>\n",
       "      <td>1</td>\n",
       "    </tr>\n",
       "    <tr>\n",
       "      <th>MA</th>\n",
       "      <td>1</td>\n",
       "    </tr>\n",
       "    <tr>\n",
       "      <th>OP</th>\n",
       "      <td>1</td>\n",
       "    </tr>\n",
       "    <tr>\n",
       "      <th>LT</th>\n",
       "      <td>1</td>\n",
       "    </tr>\n",
       "    <tr>\n",
       "      <th>PG</th>\n",
       "      <td>1</td>\n",
       "    </tr>\n",
       "    <tr>\n",
       "      <th>PIR</th>\n",
       "      <td>1</td>\n",
       "    </tr>\n",
       "    <tr>\n",
       "      <th>L</th>\n",
       "      <td>1</td>\n",
       "    </tr>\n",
       "    <tr>\n",
       "      <th>KEG</th>\n",
       "      <td>1</td>\n",
       "    </tr>\n",
       "    <tr>\n",
       "      <th>N</th>\n",
       "      <td>1</td>\n",
       "    </tr>\n",
       "    <tr>\n",
       "      <th>UPP</th>\n",
       "      <td>1</td>\n",
       "    </tr>\n",
       "    <tr>\n",
       "      <th>PL</th>\n",
       "      <td>1</td>\n",
       "    </tr>\n",
       "    <tr>\n",
       "      <th>IK</th>\n",
       "      <td>1</td>\n",
       "    </tr>\n",
       "    <tr>\n",
       "      <th>PPOA</th>\n",
       "      <td>1</td>\n",
       "    </tr>\n",
       "    <tr>\n",
       "      <th>ICO</th>\n",
       "      <td>1</td>\n",
       "    </tr>\n",
       "    <tr>\n",
       "      <th>IA</th>\n",
       "      <td>1</td>\n",
       "    </tr>\n",
       "    <tr>\n",
       "      <th>H</th>\n",
       "      <td>1</td>\n",
       "    </tr>\n",
       "    <tr>\n",
       "      <th>GW</th>\n",
       "      <td>1</td>\n",
       "    </tr>\n",
       "    <tr>\n",
       "      <th>GT</th>\n",
       "      <td>1</td>\n",
       "    </tr>\n",
       "    <tr>\n",
       "      <th>NST</th>\n",
       "      <td>1</td>\n",
       "    </tr>\n",
       "    <tr>\n",
       "      <th>SAME</th>\n",
       "      <td>1</td>\n",
       "    </tr>\n",
       "    <tr>\n",
       "      <th>FR</th>\n",
       "      <td>1</td>\n",
       "    </tr>\n",
       "    <tr>\n",
       "      <th>PZ</th>\n",
       "      <td>1</td>\n",
       "    </tr>\n",
       "  </tbody>\n",
       "</table>\n",
       "<p>92 rows × 1 columns</p>\n",
       "</div>"
      ],
      "text/plain": [
       "       NUMBER\n",
       "PARTY        \n",
       "D       51162\n",
       "R       47668\n",
       "NF      17608\n",
       "NON      2814\n",
       "I        2006\n",
       "LN        805\n",
       "OTH       368\n",
       "GR        264\n",
       "INDE      183\n",
       "NO        175\n",
       "NOP       137\n",
       "IND        31\n",
       "C          24\n",
       "CT         20\n",
       "S          11\n",
       "LI         10\n",
       "IR         10\n",
       "ID          9\n",
       "UNK         7\n",
       "NTS         6\n",
       "RF          5\n",
       "UND         5\n",
       "M           5\n",
       "UNA         5\n",
       "AD          4\n",
       "GP          4\n",
       "AM          4\n",
       "WH          4\n",
       "NS          3\n",
       "MW          3\n",
       "...       ...\n",
       "AH          1\n",
       "AF          1\n",
       "TPP         1\n",
       "ACO         1\n",
       "OLAP        1\n",
       "FE          1\n",
       "DTP         1\n",
       "MM          1\n",
       "MAJA        1\n",
       "MA          1\n",
       "OP          1\n",
       "LT          1\n",
       "PG          1\n",
       "PIR         1\n",
       "L           1\n",
       "KEG         1\n",
       "N           1\n",
       "UPP         1\n",
       "PL          1\n",
       "IK          1\n",
       "PPOA        1\n",
       "ICO         1\n",
       "IA          1\n",
       "H           1\n",
       "GW          1\n",
       "GT          1\n",
       "NST         1\n",
       "SAME        1\n",
       "FR          1\n",
       "PZ          1\n",
       "\n",
       "[92 rows x 1 columns]"
      ]
     },
     "execution_count": 4,
     "metadata": {},
     "output_type": "execute_result"
    }
   ],
   "source": [
    "# Your code here\n",
    "grouped = df_voters.groupby('12') # Group by party registrations\n",
    "summed = grouped['12'].count() # Get counts of each group\n",
    "summed.sort_values(inplace=True, ascending=False)\n",
    "df_summed = summed.to_frame()\n",
    "df_summed.columns = ['NUMBER']\n",
    "df_summed.index.names = ['PARTY']\n",
    "df_summed"
   ]
  },
  {
   "cell_type": "markdown",
   "metadata": {},
   "source": [
    "Now, let's make a bar chart to do some initial exploration of the data. To get a simple exploratory plot, we use Matplotlib. Matplotlib is integrated into Pandas, and you can create plots from data frames. For more reading, check out the Matplotlib documentation at [Pandas Plotting Documentation](http://pandas.pydata.org/pandas-docs/stable/generated/pandas.DataFrame.plot.html) and the [Matplotlib Documentation](http://matplotlib.org/2.0.0/contents.html).\n",
    "\n",
    "Using **df_summed** that you just created, the following will give you a basic bar chart of your dataset."
   ]
  },
  {
   "cell_type": "code",
   "execution_count": 5,
   "metadata": {
    "collapsed": false
   },
   "outputs": [
    {
     "data": {
      "text/plain": [
       "<matplotlib.axes._subplots.AxesSubplot at 0x115a7ec88>"
      ]
     },
     "execution_count": 5,
     "metadata": {},
     "output_type": "execute_result"
    },
    {
     "data": {
      "image/png": "[encoded data removed]",
      "text/plain": [
       "<matplotlib.figure.Figure at 0x115a7ef28>"
      ]
     },
     "metadata": {},
     "output_type": "display_data"
    }
   ],
   "source": [
    "df_summed.plot.bar(legend=True)"
   ]
  },
  {
   "cell_type": "markdown",
   "metadata": {},
   "source": [
    "This is alot of values! It doesn't make much sense to show them all, let's group categories into three, Republican, Democrat, or Other. We can do this doing some grouping and by implementing what we've learned so far. The following shows you how to find all of the party affiliations that are not 'Democrat' or 'Republican'."
   ]
  },
  {
   "cell_type": "code",
   "execution_count": 6,
   "metadata": {
    "collapsed": false
   },
   "outputs": [
    {
     "data": {
      "text/html": [
       "<div>\n",
       "<table border=\"1\" class=\"dataframe\">\n",
       "  <thead>\n",
       "    <tr style=\"text-align: right;\">\n",
       "      <th></th>\n",
       "      <th>NUMBER</th>\n",
       "    </tr>\n",
       "    <tr>\n",
       "      <th>PARTY</th>\n",
       "      <th></th>\n",
       "    </tr>\n",
       "  </thead>\n",
       "  <tbody>\n",
       "    <tr>\n",
       "      <th>NF</th>\n",
       "      <td>17608</td>\n",
       "    </tr>\n",
       "    <tr>\n",
       "      <th>NON</th>\n",
       "      <td>2814</td>\n",
       "    </tr>\n",
       "    <tr>\n",
       "      <th>I</th>\n",
       "      <td>2006</td>\n",
       "    </tr>\n",
       "    <tr>\n",
       "      <th>LN</th>\n",
       "      <td>805</td>\n",
       "    </tr>\n",
       "    <tr>\n",
       "      <th>OTH</th>\n",
       "      <td>368</td>\n",
       "    </tr>\n",
       "    <tr>\n",
       "      <th>GR</th>\n",
       "      <td>264</td>\n",
       "    </tr>\n",
       "    <tr>\n",
       "      <th>INDE</th>\n",
       "      <td>183</td>\n",
       "    </tr>\n",
       "    <tr>\n",
       "      <th>NO</th>\n",
       "      <td>175</td>\n",
       "    </tr>\n",
       "    <tr>\n",
       "      <th>NOP</th>\n",
       "      <td>137</td>\n",
       "    </tr>\n",
       "    <tr>\n",
       "      <th>IND</th>\n",
       "      <td>31</td>\n",
       "    </tr>\n",
       "    <tr>\n",
       "      <th>C</th>\n",
       "      <td>24</td>\n",
       "    </tr>\n",
       "    <tr>\n",
       "      <th>CT</th>\n",
       "      <td>20</td>\n",
       "    </tr>\n",
       "    <tr>\n",
       "      <th>S</th>\n",
       "      <td>11</td>\n",
       "    </tr>\n",
       "    <tr>\n",
       "      <th>LI</th>\n",
       "      <td>10</td>\n",
       "    </tr>\n",
       "    <tr>\n",
       "      <th>IR</th>\n",
       "      <td>10</td>\n",
       "    </tr>\n",
       "    <tr>\n",
       "      <th>ID</th>\n",
       "      <td>9</td>\n",
       "    </tr>\n",
       "    <tr>\n",
       "      <th>UNK</th>\n",
       "      <td>7</td>\n",
       "    </tr>\n",
       "    <tr>\n",
       "      <th>NTS</th>\n",
       "      <td>6</td>\n",
       "    </tr>\n",
       "    <tr>\n",
       "      <th>RF</th>\n",
       "      <td>5</td>\n",
       "    </tr>\n",
       "    <tr>\n",
       "      <th>UND</th>\n",
       "      <td>5</td>\n",
       "    </tr>\n",
       "    <tr>\n",
       "      <th>M</th>\n",
       "      <td>5</td>\n",
       "    </tr>\n",
       "    <tr>\n",
       "      <th>UNA</th>\n",
       "      <td>5</td>\n",
       "    </tr>\n",
       "    <tr>\n",
       "      <th>AD</th>\n",
       "      <td>4</td>\n",
       "    </tr>\n",
       "    <tr>\n",
       "      <th>GP</th>\n",
       "      <td>4</td>\n",
       "    </tr>\n",
       "    <tr>\n",
       "      <th>AM</th>\n",
       "      <td>4</td>\n",
       "    </tr>\n",
       "    <tr>\n",
       "      <th>WH</th>\n",
       "      <td>4</td>\n",
       "    </tr>\n",
       "    <tr>\n",
       "      <th>NS</th>\n",
       "      <td>3</td>\n",
       "    </tr>\n",
       "    <tr>\n",
       "      <th>MW</th>\n",
       "      <td>3</td>\n",
       "    </tr>\n",
       "    <tr>\n",
       "      <th>TP</th>\n",
       "      <td>3</td>\n",
       "    </tr>\n",
       "    <tr>\n",
       "      <th>BM</th>\n",
       "      <td>3</td>\n",
       "    </tr>\n",
       "    <tr>\n",
       "      <th>...</th>\n",
       "      <td>...</td>\n",
       "    </tr>\n",
       "    <tr>\n",
       "      <th>AH</th>\n",
       "      <td>1</td>\n",
       "    </tr>\n",
       "    <tr>\n",
       "      <th>AF</th>\n",
       "      <td>1</td>\n",
       "    </tr>\n",
       "    <tr>\n",
       "      <th>TPP</th>\n",
       "      <td>1</td>\n",
       "    </tr>\n",
       "    <tr>\n",
       "      <th>ACO</th>\n",
       "      <td>1</td>\n",
       "    </tr>\n",
       "    <tr>\n",
       "      <th>OLAP</th>\n",
       "      <td>1</td>\n",
       "    </tr>\n",
       "    <tr>\n",
       "      <th>FE</th>\n",
       "      <td>1</td>\n",
       "    </tr>\n",
       "    <tr>\n",
       "      <th>DTP</th>\n",
       "      <td>1</td>\n",
       "    </tr>\n",
       "    <tr>\n",
       "      <th>MM</th>\n",
       "      <td>1</td>\n",
       "    </tr>\n",
       "    <tr>\n",
       "      <th>MAJA</th>\n",
       "      <td>1</td>\n",
       "    </tr>\n",
       "    <tr>\n",
       "      <th>MA</th>\n",
       "      <td>1</td>\n",
       "    </tr>\n",
       "    <tr>\n",
       "      <th>OP</th>\n",
       "      <td>1</td>\n",
       "    </tr>\n",
       "    <tr>\n",
       "      <th>LT</th>\n",
       "      <td>1</td>\n",
       "    </tr>\n",
       "    <tr>\n",
       "      <th>PG</th>\n",
       "      <td>1</td>\n",
       "    </tr>\n",
       "    <tr>\n",
       "      <th>PIR</th>\n",
       "      <td>1</td>\n",
       "    </tr>\n",
       "    <tr>\n",
       "      <th>L</th>\n",
       "      <td>1</td>\n",
       "    </tr>\n",
       "    <tr>\n",
       "      <th>KEG</th>\n",
       "      <td>1</td>\n",
       "    </tr>\n",
       "    <tr>\n",
       "      <th>N</th>\n",
       "      <td>1</td>\n",
       "    </tr>\n",
       "    <tr>\n",
       "      <th>UPP</th>\n",
       "      <td>1</td>\n",
       "    </tr>\n",
       "    <tr>\n",
       "      <th>PL</th>\n",
       "      <td>1</td>\n",
       "    </tr>\n",
       "    <tr>\n",
       "      <th>IK</th>\n",
       "      <td>1</td>\n",
       "    </tr>\n",
       "    <tr>\n",
       "      <th>PPOA</th>\n",
       "      <td>1</td>\n",
       "    </tr>\n",
       "    <tr>\n",
       "      <th>ICO</th>\n",
       "      <td>1</td>\n",
       "    </tr>\n",
       "    <tr>\n",
       "      <th>IA</th>\n",
       "      <td>1</td>\n",
       "    </tr>\n",
       "    <tr>\n",
       "      <th>H</th>\n",
       "      <td>1</td>\n",
       "    </tr>\n",
       "    <tr>\n",
       "      <th>GW</th>\n",
       "      <td>1</td>\n",
       "    </tr>\n",
       "    <tr>\n",
       "      <th>GT</th>\n",
       "      <td>1</td>\n",
       "    </tr>\n",
       "    <tr>\n",
       "      <th>NST</th>\n",
       "      <td>1</td>\n",
       "    </tr>\n",
       "    <tr>\n",
       "      <th>SAME</th>\n",
       "      <td>1</td>\n",
       "    </tr>\n",
       "    <tr>\n",
       "      <th>FR</th>\n",
       "      <td>1</td>\n",
       "    </tr>\n",
       "    <tr>\n",
       "      <th>PZ</th>\n",
       "      <td>1</td>\n",
       "    </tr>\n",
       "  </tbody>\n",
       "</table>\n",
       "<p>90 rows × 1 columns</p>\n",
       "</div>"
      ],
      "text/plain": [
       "       NUMBER\n",
       "PARTY        \n",
       "NF      17608\n",
       "NON      2814\n",
       "I        2006\n",
       "LN        805\n",
       "OTH       368\n",
       "GR        264\n",
       "INDE      183\n",
       "NO        175\n",
       "NOP       137\n",
       "IND        31\n",
       "C          24\n",
       "CT         20\n",
       "S          11\n",
       "LI         10\n",
       "IR         10\n",
       "ID          9\n",
       "UNK         7\n",
       "NTS         6\n",
       "RF          5\n",
       "UND         5\n",
       "M           5\n",
       "UNA         5\n",
       "AD          4\n",
       "GP          4\n",
       "AM          4\n",
       "WH          4\n",
       "NS          3\n",
       "MW          3\n",
       "TP          3\n",
       "BM          3\n",
       "...       ...\n",
       "AH          1\n",
       "AF          1\n",
       "TPP         1\n",
       "ACO         1\n",
       "OLAP        1\n",
       "FE          1\n",
       "DTP         1\n",
       "MM          1\n",
       "MAJA        1\n",
       "MA          1\n",
       "OP          1\n",
       "LT          1\n",
       "PG          1\n",
       "PIR         1\n",
       "L           1\n",
       "KEG         1\n",
       "N           1\n",
       "UPP         1\n",
       "PL          1\n",
       "IK          1\n",
       "PPOA        1\n",
       "ICO         1\n",
       "IA          1\n",
       "H           1\n",
       "GW          1\n",
       "GT          1\n",
       "NST         1\n",
       "SAME        1\n",
       "FR          1\n",
       "PZ          1\n",
       "\n",
       "[90 rows x 1 columns]"
      ]
     },
     "execution_count": 6,
     "metadata": {},
     "output_type": "execute_result"
    }
   ],
   "source": [
    "df_summed[(df_summed.index != 'D') & (df_summed.index != 'R')]"
   ]
  },
  {
   "cell_type": "markdown",
   "metadata": {},
   "source": [
    "Group the parties into Democrat, Republican, and Other. Create a single row table with parties as the rows, and the number of voter registrations as columns. The rows should be Democrat, Republican, and Other. Call the table 'df_parties'\n",
    "\n",
    "Hint, sum the values you want from **df_summed** for each group and save them as variables. You will then need to create a new numpy array that contains the summed valued for each group and create the new data frame with your answer. This [Stack Exchange Question](http://stackoverflow.com/questions/17839973/construct-pandas-dataframe-from-values-in-variables) will help you, along with the [Pandas documentation on DataFrames](http://pandas.pydata.org/pandas-docs/stable/dsintro.html#dataframe)."
   ]
  },
  {
   "cell_type": "code",
   "execution_count": 7,
   "metadata": {
    "collapsed": false
   },
   "outputs": [
    {
     "data": {
      "text/html": [
       "<div>\n",
       "<table border=\"1\" class=\"dataframe\">\n",
       "  <thead>\n",
       "    <tr style=\"text-align: right;\">\n",
       "      <th></th>\n",
       "      <th>N</th>\n",
       "    </tr>\n",
       "  </thead>\n",
       "  <tbody>\n",
       "    <tr>\n",
       "      <th>Democrat</th>\n",
       "      <td>51162</td>\n",
       "    </tr>\n",
       "    <tr>\n",
       "      <th>Republican</th>\n",
       "      <td>47668</td>\n",
       "    </tr>\n",
       "    <tr>\n",
       "      <th>Other</th>\n",
       "      <td>24609</td>\n",
       "    </tr>\n",
       "  </tbody>\n",
       "</table>\n",
       "</div>"
      ],
      "text/plain": [
       "                N\n",
       "Democrat    51162\n",
       "Republican  47668\n",
       "Other       24609"
      ]
     },
     "execution_count": 7,
     "metadata": {},
     "output_type": "execute_result"
    }
   ],
   "source": [
    "parties = ['Democrat', 'Republican', 'Other']\n",
    "values = np.array([df_summed[(df_summed.index == 'D')].NUMBER.item(),df_summed[(df_summed.index == 'R')].NUMBER.item(),df_summed[(df_summed.index != 'D') & (df_summed.index != 'R')].NUMBER.sum()])\n",
    "df_parties = pd.DataFrame(values,index=parties,columns=list('N'))\n",
    "df_parties               "
   ]
  },
  {
   "cell_type": "markdown",
   "metadata": {},
   "source": [
    "**Problem 2: Plot this as a bar chart, using red for Republican, blue for Democrat, and yellow for other.**\n",
    "\n",
    "You can learn more about bar plots in in the [Bar Plot Documentation](http://pandas.pydata.org/pandas-docs/version/0.18.1/visualization.html#visualization-barplot). This will also give you hints as to how you can assign colors, along with the other properties affiated with bar charts, such as legends and axes."
   ]
  },
  {
   "cell_type": "code",
   "execution_count": 8,
   "metadata": {
    "collapsed": false
   },
   "outputs": [
    {
     "data": {
      "text/plain": [
       "<matplotlib.axes._subplots.AxesSubplot at 0x115c975c0>"
      ]
     },
     "execution_count": 8,
     "metadata": {},
     "output_type": "execute_result"
    },
    {
     "data": {
      "image/png": "[encoded data removed]",
      "text/plain": [
       "<matplotlib.figure.Figure at 0x115b7beb8>"
      ]
     },
     "metadata": {},
     "output_type": "display_data"
    }
   ],
   "source": [
    "df_parties.columns = ['Voters']\n",
    "df_parties.plot.bar(color = ['b','r','y'])"
   ]
  },
  {
   "cell_type": "markdown",
   "metadata": {},
   "source": [
    "**Problem 3: For this next question, implement the above. We want to compare how the number of voter registrations to election results for one precinct (PRECINCT 42). Create a bar chart that has two bars each for category (Democrat, Republican, and Other). One of the bars will represent the number of registered voters to that party, and the second bar representing the count of results (ie how many people actually voted for that parties candidate) for each group**\n",
    "\n",
    "Hint, you will have to load the precinct level result data into Pandas, then perform the correct grouping and summing to get the numbers you need from both the voter registration data and the precinct level results, then join the two into single dataframe to make your chart. You can base your answers on the following help page: http://chrisalbon.com/python/matplotlib_grouped_bar_plot.html"
   ]
  },
  {
   "cell_type": "code",
   "execution_count": 9,
   "metadata": {
    "collapsed": false
   },
   "outputs": [
    {
     "data": {
      "text/html": [
       "<div>\n",
       "<table border=\"1\" class=\"dataframe\">\n",
       "  <thead>\n",
       "    <tr style=\"text-align: right;\">\n",
       "      <th></th>\n",
       "      <th>Votes</th>\n",
       "    </tr>\n",
       "  </thead>\n",
       "  <tbody>\n",
       "    <tr>\n",
       "      <th>Democrat</th>\n",
       "      <td>802.0</td>\n",
       "    </tr>\n",
       "    <tr>\n",
       "      <th>Republican</th>\n",
       "      <td>736.0</td>\n",
       "    </tr>\n",
       "    <tr>\n",
       "      <th>Other</th>\n",
       "      <td>81.0</td>\n",
       "    </tr>\n",
       "  </tbody>\n",
       "</table>\n",
       "</div>"
      ],
      "text/plain": [
       "            Votes\n",
       "Democrat    802.0\n",
       "Republican  736.0\n",
       "Other        81.0"
      ]
     },
     "execution_count": 9,
     "metadata": {},
     "output_type": "execute_result"
    }
   ],
   "source": [
    "# Difference between registered voters to the party and results.\n",
    "# Add your code below:\n",
    "\n",
    "# Read Election Results data and create a table for Precinct 42\n",
    "df_elecres = pd.read_table('data/centrecounty_precinct_results_nov2016.txt', sep=',')\n",
    "df_p42 = df_elecres[df_elecres['PrecNo'] == 42]\n",
    "df_pres = df_p42.loc[df_p42['Contest'] == 'PRESIDENTIAL ELECTORS']\n",
    "votes_raw = np.array(df_pres.Count)\n",
    "parties_raw = df_pres.Party\n",
    "df_vote_raw = pd.DataFrame(votes_raw, index=parties_raw, columns=['Votes'])\n",
    "votes = np.array([df_vote_raw[(df_vote_raw.index == 'DEMOCRATIC')].Votes.item(), df_vote_raw[(df_vote_raw.index == 'REPUBLICAN')].Votes.item(), df_vote_raw[(df_vote_raw.index != 'DEMOCRATIC')& (df_vote_raw.index != 'REPUBLICAN')].Votes.sum()])\n",
    "parties = ['Democrat','Republican','Other']\n",
    "df_votecnt = pd.DataFrame(votes, index=parties, columns=['Votes'])\n",
    "df_votecnt"
   ]
  },
  {
   "cell_type": "code",
   "execution_count": 10,
   "metadata": {
    "collapsed": false
   },
   "outputs": [
    {
     "data": {
      "text/html": [
       "<div>\n",
       "<table border=\"1\" class=\"dataframe\">\n",
       "  <thead>\n",
       "    <tr style=\"text-align: right;\">\n",
       "      <th></th>\n",
       "      <th>Reg_Voters</th>\n",
       "    </tr>\n",
       "  </thead>\n",
       "  <tbody>\n",
       "    <tr>\n",
       "      <th>Democrat</th>\n",
       "      <td>824</td>\n",
       "    </tr>\n",
       "    <tr>\n",
       "      <th>Republican</th>\n",
       "      <td>978</td>\n",
       "    </tr>\n",
       "    <tr>\n",
       "      <th>Other</th>\n",
       "      <td>314</td>\n",
       "    </tr>\n",
       "  </tbody>\n",
       "</table>\n",
       "</div>"
      ],
      "text/plain": [
       "            Reg_Voters\n",
       "Democrat           824\n",
       "Republican         978\n",
       "Other              314"
      ]
     },
     "execution_count": 10,
     "metadata": {},
     "output_type": "execute_result"
    }
   ],
   "source": [
    "# Read Voter Registration data and create a table for Precinct 42\n",
    "df_voters=pd.read_csv('data/CENTRE_FVE_20170123.csv', low_memory=False)\n",
    "df_p42 = df_voters[df_voters['27'] == 42]\n",
    "grouped = df_p42.groupby('12') \n",
    "summed = grouped['12'].count()\n",
    "df_regvote = summed.to_frame()\n",
    "df_regvote.columns = ['Reg_Voters']\n",
    "df_regvote.index.names = ['PARTY']\n",
    "df_regvote\n",
    "parties = ['Democrat','Republican','Other']\n",
    "voters = np.array([df_regvote[(df_regvote.index == 'D')].Reg_Voters.item(), df_regvote[(df_regvote.index == 'R')].Reg_Voters.item(), df_regvote[(df_regvote.index != 'D')& (df_regvote.index != 'R')].Reg_Voters.sum()])\n",
    "df_voters = pd.DataFrame(voters, index=parties, columns=['Reg_Voters'])\n",
    "df_voters"
   ]
  },
  {
   "cell_type": "code",
   "execution_count": 11,
   "metadata": {
    "collapsed": false
   },
   "outputs": [
    {
     "data": {
      "text/html": [
       "<div>\n",
       "<table border=\"1\" class=\"dataframe\">\n",
       "  <thead>\n",
       "    <tr style=\"text-align: right;\">\n",
       "      <th></th>\n",
       "      <th>Reg_Voters</th>\n",
       "      <th>Votes</th>\n",
       "    </tr>\n",
       "  </thead>\n",
       "  <tbody>\n",
       "    <tr>\n",
       "      <th>Democrat</th>\n",
       "      <td>824</td>\n",
       "      <td>802.0</td>\n",
       "    </tr>\n",
       "    <tr>\n",
       "      <th>Republican</th>\n",
       "      <td>978</td>\n",
       "      <td>736.0</td>\n",
       "    </tr>\n",
       "    <tr>\n",
       "      <th>Other</th>\n",
       "      <td>314</td>\n",
       "      <td>81.0</td>\n",
       "    </tr>\n",
       "  </tbody>\n",
       "</table>\n",
       "</div>"
      ],
      "text/plain": [
       "            Reg_Voters  Votes\n",
       "Democrat           824  802.0\n",
       "Republican         978  736.0\n",
       "Other              314   81.0"
      ]
     },
     "execution_count": 11,
     "metadata": {},
     "output_type": "execute_result"
    }
   ],
   "source": [
    "# Join the two tables\n",
    "df_joined = df_voters.join(df_votecnt)\n",
    "df_joined\n"
   ]
  },
  {
   "cell_type": "code",
   "execution_count": 12,
   "metadata": {
    "collapsed": false
   },
   "outputs": [
    {
     "data": {
      "text/plain": [
       "<matplotlib.axes._subplots.AxesSubplot at 0x11623e898>"
      ]
     },
     "execution_count": 12,
     "metadata": {},
     "output_type": "execute_result"
    },
    {
     "data": {
      "image/png": "[encoded data removed]",
      "text/plain": [
       "<matplotlib.figure.Figure at 0x1162c4f60>"
      ]
     },
     "metadata": {},
     "output_type": "display_data"
    }
   ],
   "source": [
    "# Plot the dataset\n",
    "df_joined.plot.bar()\n",
    "\n"
   ]
  },
  {
   "cell_type": "markdown",
   "metadata": {},
   "source": [
    "## Part 2 - Scatterplotting\n",
    "\n",
    "Now we will use the **precinct_centroids** file provided to display the geographical location of the centroid of each precinct, plot them in a scatterplot, then size the points in the scatterplot according to the number of votes.\n",
    "\n",
    "First, load the CSV."
   ]
  },
  {
   "cell_type": "code",
   "execution_count": 13,
   "metadata": {
    "collapsed": false
   },
   "outputs": [
    {
     "data": {
      "text/html": [
       "<div>\n",
       "<table border=\"1\" class=\"dataframe\">\n",
       "  <thead>\n",
       "    <tr style=\"text-align: right;\">\n",
       "      <th></th>\n",
       "      <th>X</th>\n",
       "      <th>Y</th>\n",
       "      <th>OBJECTID</th>\n",
       "      <th>NAME</th>\n",
       "      <th>Precinct</th>\n",
       "      <th>GlobalID</th>\n",
       "      <th>MDJ</th>\n",
       "      <th>ShapeSTAre</th>\n",
       "      <th>ShapeSTLen</th>\n",
       "    </tr>\n",
       "  </thead>\n",
       "  <tbody>\n",
       "    <tr>\n",
       "      <th>0</th>\n",
       "      <td>-77.972391</td>\n",
       "      <td>41.129340</td>\n",
       "      <td>1</td>\n",
       "      <td>BURNSIDE</td>\n",
       "      <td>40</td>\n",
       "      <td>{A309C3DE-8AD8-46A5-B8EA-B8F7E1ADB972}</td>\n",
       "      <td>49-3-03</td>\n",
       "      <td>2.530029e+09</td>\n",
       "      <td>280069.560289</td>\n",
       "    </tr>\n",
       "    <tr>\n",
       "      <th>1</th>\n",
       "      <td>-77.641414</td>\n",
       "      <td>41.068505</td>\n",
       "      <td>2</td>\n",
       "      <td>LIBERTY</td>\n",
       "      <td>60</td>\n",
       "      <td>{57577111-D7B7-4048-9517-EF2ED6059928}</td>\n",
       "      <td>49-3-02</td>\n",
       "      <td>6.878831e+08</td>\n",
       "      <td>131265.443714</td>\n",
       "    </tr>\n",
       "    <tr>\n",
       "      <th>2</th>\n",
       "      <td>-77.688090</td>\n",
       "      <td>41.010310</td>\n",
       "      <td>3</td>\n",
       "      <td>HOWARD TWP</td>\n",
       "      <td>58</td>\n",
       "      <td>{C9B8B5CF-6699-485A-97D2-74FB9B2D6FFE}</td>\n",
       "      <td>49-3-02</td>\n",
       "      <td>5.275320e+08</td>\n",
       "      <td>111072.612891</td>\n",
       "    </tr>\n",
       "    <tr>\n",
       "      <th>3</th>\n",
       "      <td>-77.642348</td>\n",
       "      <td>40.985981</td>\n",
       "      <td>4</td>\n",
       "      <td>MARION</td>\n",
       "      <td>61</td>\n",
       "      <td>{FA3740D2-624B-4464-B6CD-16F6E219ADEA}</td>\n",
       "      <td>49-3-02</td>\n",
       "      <td>6.135493e+08</td>\n",
       "      <td>131038.017743</td>\n",
       "    </tr>\n",
       "    <tr>\n",
       "      <th>4</th>\n",
       "      <td>-77.949892</td>\n",
       "      <td>41.027568</td>\n",
       "      <td>5</td>\n",
       "      <td>SNOW SHOE</td>\n",
       "      <td>14</td>\n",
       "      <td>{908F092A-BCFF-4EA5-99D7-B9248A2EA56A}</td>\n",
       "      <td>49-3-03</td>\n",
       "      <td>1.644442e+07</td>\n",
       "      <td>19920.287608</td>\n",
       "    </tr>\n",
       "  </tbody>\n",
       "</table>\n",
       "</div>"
      ],
      "text/plain": [
       "           X          Y  OBJECTID        NAME  Precinct  \\\n",
       "0 -77.972391  41.129340         1    BURNSIDE        40   \n",
       "1 -77.641414  41.068505         2     LIBERTY        60   \n",
       "2 -77.688090  41.010310         3  HOWARD TWP        58   \n",
       "3 -77.642348  40.985981         4      MARION        61   \n",
       "4 -77.949892  41.027568         5   SNOW SHOE        14   \n",
       "\n",
       "                                 GlobalID      MDJ    ShapeSTAre  \\\n",
       "0  {A309C3DE-8AD8-46A5-B8EA-B8F7E1ADB972}  49-3-03  2.530029e+09   \n",
       "1  {57577111-D7B7-4048-9517-EF2ED6059928}  49-3-02  6.878831e+08   \n",
       "2  {C9B8B5CF-6699-485A-97D2-74FB9B2D6FFE}  49-3-02  5.275320e+08   \n",
       "3  {FA3740D2-624B-4464-B6CD-16F6E219ADEA}  49-3-02  6.135493e+08   \n",
       "4  {908F092A-BCFF-4EA5-99D7-B9248A2EA56A}  49-3-03  1.644442e+07   \n",
       "\n",
       "      ShapeSTLen  \n",
       "0  280069.560289  \n",
       "1  131265.443714  \n",
       "2  111072.612891  \n",
       "3  131038.017743  \n",
       "4   19920.287608  "
      ]
     },
     "execution_count": 13,
     "metadata": {},
     "output_type": "execute_result"
    }
   ],
   "source": [
    "df_precinct_locations = pd.read_table('data/center_county_precinct_centroids.csv', sep=',', low_memory=False)\n",
    "df_precinct_locations.head()"
   ]
  },
  {
   "cell_type": "markdown",
   "metadata": {},
   "source": [
    "Now that we have a new `DataFrame` for each precinct and the geographical location of its centroid, we can use lat/lon values to create a scatter plot. We can even vary their size based on the variables or criteria we set. If variation across precincts is not that big, we can use a log function to better visualize it on our plot. Numpy has a quick log implementation:\n",
    "```Python\n",
    "np.log(value)\n",
    "```\n",
    "In this following example, we give the points a simple size of 25."
   ]
  },
  {
   "cell_type": "code",
   "execution_count": 14,
   "metadata": {
    "collapsed": false
   },
   "outputs": [
    {
     "data": {
      "image/png": "[encoded data removed]",
      "text/plain": [
       "<matplotlib.figure.Figure at 0x1441350f0>"
      ]
     },
     "metadata": {},
     "output_type": "display_data"
    }
   ],
   "source": [
    "plt.scatter(df_precinct_locations['X'],df_precinct_locations['Y'], s=25)\n",
    "plt.show()"
   ]
  },
  {
   "cell_type": "markdown",
   "metadata": {},
   "source": [
    "**Problem 4: Using the above example, and the documentation on scatterplots, create two scatterplots using longitude and latitude X and Y locations, one showing percentage of vote for Trump, and other percentage of vote for Clinton. Make the Trump dots colored red, and Clinton blue.**\n",
    "\n",
    "Find the [Scatterplot documentation here](http://pandas.pydata.org/pandas-docs/version/0.19.1/visualization.html#scatter-plot)\n",
    "\n",
    "Hint: You will need to join the results precincts file to the centroids, and then set the size of the plot points to be the percentages. This is accessed using the S property.\n",
    "\n",
    "To perform the join, use merge. This [Stack Exchange](http://stackoverflow.com/questions/20375561/joining-pandas-dataframes-by-column-names) question will help!"
   ]
  },
  {
   "cell_type": "code",
   "execution_count": 15,
   "metadata": {
    "collapsed": false
   },
   "outputs": [
    {
     "data": {
      "image/png": "[encoded data removed]",
      "text/plain": [
       "<matplotlib.figure.Figure at 0x1162a4c50>"
      ]
     },
     "metadata": {},
     "output_type": "display_data"
    }
   ],
   "source": [
    "# Map 1: Votes for Trump\n",
    "# Add your code below:\n",
    "df_res = pd.read_table('data/centrecounty_precinct_results_nov2016.txt', sep=',')\n",
    "df_res = df_res[df_res['Candidate'].notnull()]\n",
    "df_trump = df_res.loc[df_res['Candidate'].str.contains('TRUMP')]\n",
    "df_trump_sm = df_trump[['PrecNo','Count']]\n",
    "df_trump_sm                       \n",
    "\n",
    "df_precinct_locs = pd.read_table('data/center_county_precinct_centroids.csv', sep=',', low_memory=False)\n",
    "df_trump_locs = df_precinct_locs.set_index('Precinct').join(df_trump_sm.set_index('PrecNo'))\n",
    "df_trump_locs\n",
    "\n",
    "plt.scatter(df_precinct_locs['X'],df_precinct_locs['Y'], color='red', s=(df_trump_locs['Count']*df_trump_locs['Count']*df_trump_locs['Count']/10000000))\n",
    "plt.show()\n"
   ]
  },
  {
   "cell_type": "code",
   "execution_count": 16,
   "metadata": {
    "collapsed": false
   },
   "outputs": [
    {
     "data": {
      "image/png": "[encoded data removed]",
      "text/plain": [
       "<matplotlib.figure.Figure at 0x11986e470>"
      ]
     },
     "metadata": {},
     "output_type": "display_data"
    }
   ],
   "source": [
    "# Map 2: Votes for Clinton\n",
    "# Add your code below:\n",
    "\n",
    "df_res = pd.read_table('data/centrecounty_precinct_results_nov2016.txt', sep=',')\n",
    "df_res = df_res[df_res['Candidate'].notnull()]\n",
    "df_clinton = df_res.loc[df_res['Candidate'].str.contains('CLINTON')]\n",
    "df_clinton_sm = df_clinton[['PrecNo','Count']]\n",
    "df_clinton                       \n",
    "\n",
    "df_precinct_locs = pd.read_table('data/center_county_precinct_centroids.csv', sep=',', low_memory=False)\n",
    "df_clinton_locs = df_precinct_locs.set_index('Precinct').join(df_clinton_sm.set_index('PrecNo'))\n",
    "df_clinton_locs\n",
    "\n",
    "plt.scatter(df_precinct_locs['X'],df_precinct_locs['Y'], color='blue', s=(df_clinton_locs['Count']*df_clinton_locs['Count']*df_clinton_locs['Count']/10000000))\n",
    "plt.show()\n"
   ]
  },
  {
   "cell_type": "markdown",
   "metadata": {},
   "source": [
    "## Graphic Presentation\n",
    "\n",
    "Make sure to label all the axis, add legends and units (where appropriate).\n",
    "\n",
    "\n",
    "## Code Quality\n",
    "\n",
    "While code performance and optimization won't count, all the code should be highly readable, and reusable. Where possible, create functions, build helper functions where needed, and make sure the code is self-explanatory."
   ]
  },
  {
   "cell_type": "code",
   "execution_count": 17,
   "metadata": {
    "collapsed": false
   },
   "outputs": [
    {
     "name": "stdout",
     "output_type": "stream",
     "text": [
      "Wasn't that fun?\n"
     ]
    }
   ],
   "source": [
    "print (\"Wasn't that fun?\")"
   ]
  },
  {
   "cell_type": "code",
   "execution_count": null,
   "metadata": {
    "collapsed": true
   },
   "outputs": [],
   "source": []
  }
 ],
 "metadata": {
  "kernelspec": {
   "display_name": "Python 3",
   "language": "python",
   "name": "python3"
  },
  "language_info": {
   "codemirror_mode": {
    "name": "ipython",
    "version": 3
   },
   "file_extension": ".py",
   "mimetype": "text/x-python",
   "name": "python",
   "nbconvert_exporter": "python",
   "pygments_lexer": "ipython3",
   "version": "3.6.0"
  }
 },
 "nbformat": 4,
 "nbformat_minor": 0
}
